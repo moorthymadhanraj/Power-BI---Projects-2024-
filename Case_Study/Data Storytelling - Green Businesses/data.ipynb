{
 "cells": [
  {
   "cell_type": "markdown",
   "id": "2d114aff",
   "metadata": {},
   "source": [
    "## PolicyMaker\n",
    "\n",
    "#### wants to understand the green business ecosystem\n",
    "#### wants to encourage the creating of those businesses\n",
    "#### wants to achieve the countries environmental goals"
   ]
  },
  {
   "cell_type": "code",
   "execution_count": null,
   "id": "ff734175",
   "metadata": {},
   "outputs": [],
   "source": []
  },
  {
   "cell_type": "code",
   "execution_count": null,
   "id": "ef430ccd",
   "metadata": {},
   "outputs": [],
   "source": []
  },
  {
   "cell_type": "code",
   "execution_count": null,
   "id": "da334040",
   "metadata": {},
   "outputs": [],
   "source": []
  },
  {
   "cell_type": "code",
   "execution_count": null,
   "id": "0538b438",
   "metadata": {},
   "outputs": [],
   "source": []
  },
  {
   "cell_type": "code",
   "execution_count": null,
   "id": "45b219c8",
   "metadata": {},
   "outputs": [],
   "source": []
  }
 ],
 "metadata": {
  "kernelspec": {
   "display_name": "Python 3 (ipykernel)",
   "language": "python",
   "name": "python3"
  },
  "language_info": {
   "codemirror_mode": {
    "name": "ipython",
    "version": 3
   },
   "file_extension": ".py",
   "mimetype": "text/x-python",
   "name": "python",
   "nbconvert_exporter": "python",
   "pygments_lexer": "ipython3",
   "version": "3.9.12"
  }
 },
 "nbformat": 4,
 "nbformat_minor": 5
}
